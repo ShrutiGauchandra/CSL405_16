{
  "cells": [
    {
      "cell_type": "markdown",
      "id": "jafHD5AzkrS5",
      "metadata": {
        "id": "jafHD5AzkrS5"
      },
      "source": [
        "### 16 - Shruti Gauchandra"
      ]
    },
    {
      "cell_type": "markdown",
      "id": "TXCFd3AikWHA",
      "metadata": {
        "id": "TXCFd3AikWHA"
      },
      "source": [
        "## Experiment - 05"
      ]
    },
    {
      "cell_type": "markdown",
      "id": "6a427a71-bdd0-4d02-8de6-9c523d0e1953",
      "metadata": {
        "id": "6a427a71-bdd0-4d02-8de6-9c523d0e1953"
      },
      "source": [
        "### Stack"
      ]
    },
    {
      "cell_type": "code",
      "execution_count": 1,
      "id": "312d2253-cfe8-4dab-8d9c-f23e328524e0",
      "metadata": {
        "colab": {
          "base_uri": "https://localhost:8080/"
        },
        "id": "312d2253-cfe8-4dab-8d9c-f23e328524e0",
        "outputId": "fbb835db-bd0a-42bc-ccc2-85ff5812a739"
      },
      "outputs": [
        {
          "name": "stdout",
          "output_type": "stream",
          "text": [
            "Initial Stack\n",
            "['a', 'b', 'c']\n"
          ]
        }
      ],
      "source": [
        "stack = list ()\n",
        "\n",
        "# Append Operation\n",
        "stack.append ('a')\n",
        "stack.append ('b')\n",
        "stack.append ('c')\n",
        "print ('Initial Stack')\n",
        "print (stack)"
      ]
    },
    {
      "cell_type": "code",
      "execution_count": 2,
      "id": "b3337f3f-2969-4587-895b-a7c985dbd88e",
      "metadata": {
        "colab": {
          "base_uri": "https://localhost:8080/"
        },
        "id": "b3337f3f-2969-4587-895b-a7c985dbd88e",
        "outputId": "75120c81-ebee-45fa-e04c-ec06ef9f2741"
      },
      "outputs": [
        {
          "name": "stdout",
          "output_type": "stream",
          "text": [
            "c\n",
            "b\n",
            "a\n",
            "[]\n"
          ]
        }
      ],
      "source": [
        "# Pop Operation\n",
        "print (stack.pop ())\n",
        "print (stack.pop ())\n",
        "print (stack.pop ())\n",
        "print (stack)"
      ]
    },
    {
      "cell_type": "code",
      "execution_count": 3,
      "id": "19942dce-8407-4871-a318-b92278b573aa",
      "metadata": {
        "colab": {
          "base_uri": "https://localhost:8080/",
          "height": 70
        },
        "collapsed": true,
        "id": "19942dce-8407-4871-a318-b92278b573aa",
        "outputId": "edf67573-e585-46db-cdb1-1325f6e1929f"
      },
      "outputs": [
        {
          "data": {
            "application/vnd.google.colaboratory.intrinsic+json": {
              "type": "string"
            },
            "text/plain": [
              "'\\nGiven a valid parentheses string stringInput, return the nesting depth of stringInput.\\nThe nesting depth is the maximum number of nested parentheses.\\n\\nExample 1:\\nInput: s = \"(1+(2*3)+((8)/4))+1\"\\nOutput: 3\\nExplanation:\\nDigit 8 is inside of 3 nested parentheses in the string.\\n\\nExample 2:\\nInput: s = \"(1)+((2))+(((3)))\"\\nOutput: 3\\nExplanation:\\nDigit 3 is inside of 3 nested parentheses in the string.\\n\\nExample 3:\\nInput: s = \"()(())((()()))\"\\nOutput: 3\\n'"
            ]
          },
          "execution_count": 3,
          "metadata": {},
          "output_type": "execute_result"
        }
      ],
      "source": [
        "'''\n",
        "Given a valid parentheses string stringInput, return the nesting depth of stringInput.\n",
        "The nesting depth is the maximum number of nested parentheses.\n",
        "\n",
        "Example 1:\n",
        "Input: s = \"(1+(2*3)+((8)/4))+1\"\n",
        "Output: 3\n",
        "Explanation:\n",
        "Digit 8 is inside of 3 nested parentheses in the string.\n",
        "\n",
        "Example 2:\n",
        "Input: s = \"(1)+((2))+(((3)))\"\n",
        "Output: 3\n",
        "Explanation:\n",
        "Digit 3 is inside of 3 nested parentheses in the string.\n",
        "\n",
        "Example 3:\n",
        "Input: s = \"()(())((()()))\"\n",
        "Output: 3\n",
        "'''"
      ]
    },
    {
      "cell_type": "code",
      "execution_count": 9,
      "id": "OST_EcGFlBsB",
      "metadata": {
        "colab": {
          "base_uri": "https://localhost:8080/"
        },
        "id": "OST_EcGFlBsB",
        "outputId": "09fde422-8063-4d8b-efad-020968bab787"
      },
      "outputs": [
        {
          "name": "stdout",
          "output_type": "stream",
          "text": [
            "Enter the number of test cases: 4\n",
            "Enter a valid parentheses string: (1+(2*3)+((8)/4))+1\n",
            "Maximum Nesting Depth: 3\n",
            "Enter a valid parentheses string: ()(())((()()))\n",
            "Maximum Nesting Depth: 3\n",
            "Enter a valid parentheses string: (((((((((((\n",
            "Invalid parentheses sequence: Unbalanced parentheses.\n",
            "Enter a valid parentheses string: \n",
            "Invalid input: The string cannot be empty.\n"
          ]
        }
      ],
      "source": [
        "class StackDepth:\n",
        "    def maximumDepth(self, stringInput: str) -> int:\n",
        "        max_depth = 0\n",
        "        current_depth = 0\n",
        "\n",
        "        for char in stringInput:\n",
        "            if char == '(':\n",
        "                current_depth += 1\n",
        "                max_depth = max(max_depth, current_depth)\n",
        "            elif char == ')':\n",
        "                if current_depth > 0:\n",
        "                    current_depth -= 1\n",
        "                else:\n",
        "                    return -1  # Unbalanced parentheses\\\n",
        "\n",
        "        return max_depth if current_depth == 0 else -1\n",
        "\n",
        "# Example usage with multiple inputs\n",
        "def main():\n",
        "    num_inputs = int(input(\"Enter the number of test cases: \"))\n",
        "\n",
        "    for _ in range(num_inputs):\n",
        "        stringInput = input(\"Enter a valid parentheses string: \").strip()\n",
        "\n",
        "        if not stringInput:\n",
        "            print(\"Invalid input: The string cannot be empty.\")\n",
        "            continue\n",
        "\n",
        "        stack_depth = StackDepth()\n",
        "        result = stack_depth.maximumDepth(stringInput)\n",
        "        if result == -1:\n",
        "            print(\"Invalid parentheses sequence: Unbalanced parentheses.\")\n",
        "        else:\n",
        "            print(\"Maximum Nesting Depth:\", result)\n",
        "\n",
        "if __name__ == \"__main__\":\n",
        "    main()\n"
      ]
    }
  ],
  "metadata": {
    "colab": {
      "provenance": []
    },
    "kernelspec": {
      "display_name": "Python 3 (ipykernel)",
      "language": "python",
      "name": "python3"
    },
    "language_info": {
      "codemirror_mode": {
        "name": "ipython",
        "version": 3
      },
      "file_extension": ".py",
      "mimetype": "text/x-python",
      "name": "python",
      "nbconvert_exporter": "python",
      "pygments_lexer": "ipython3",
      "version": "3.11.5"
    }
  },
  "nbformat": 4,
  "nbformat_minor": 5
}
