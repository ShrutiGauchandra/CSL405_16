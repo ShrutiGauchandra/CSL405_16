{
  "metadata": {
    "kernelspec": {
      "name": "python",
      "display_name": "Python (Pyodide)",
      "language": "python"
    },
    "language_info": {
      "codemirror_mode": {
        "name": "python",
        "version": 3
      },
      "file_extension": ".py",
      "mimetype": "text/x-python",
      "name": "python",
      "nbconvert_exporter": "python",
      "pygments_lexer": "ipython3",
      "version": "3.8"
    }
  },
  "nbformat_minor": 4,
  "nbformat": 4,
  "cells": [
    {
      "cell_type": "code",
      "source": "###  Shruti Gauchandra - 16",
      "metadata": {
        "trusted": true
      },
      "outputs": [],
      "execution_count": null
    },
    {
      "cell_type": "markdown",
      "source": "### Strings in Python",
      "metadata": {}
    },
    {
      "cell_type": "code",
      "source": "# Assigning string to a variable\na = 'This is a string'\nprint (a)\nb = \"This is a string\"\nprint (b)\nc= '''This is a string'''\nprint (c)",
      "metadata": {},
      "outputs": [
        {
          "name": "stdout",
          "output_type": "stream",
          "text": "This is a string\n,This is a string\n,This is a string\n"
        }
      ],
      "execution_count": 1
    },
    {
      "cell_type": "markdown",
      "source": "### Lists in Python",
      "metadata": {}
    },
    {
      "cell_type": "code",
      "source": "# Declaring a list\nL = [1, \"a\" , \"string\" , 1+2]\nprint (L)\n#Adding an element in the list\nL.append(6) \nprint (L)\n#Deleting last element from a list\nL.pop()\nprint (L)\n#Displaying Second element of the list\nprint (L[1])",
      "metadata": {},
      "outputs": [
        {
          "name": "stdout",
          "output_type": "stream",
          "text": "[1, 'a', 'string', 3]\n,[1, 'a', 'string', 3, 6]\n,[1, 'a', 'string', 3]\n,a\n"
        }
      ],
      "execution_count": 3
    },
    {
      "cell_type": "markdown",
      "source": "### Tuples in Python",
      "metadata": {}
    },
    {
      "cell_type": "code",
      "source": "tup = (1, \"a\", \"string\", 1+2)\nprint(tup)\nprint(tup[1])",
      "metadata": {},
      "outputs": [
        {
          "name": "stdout",
          "output_type": "stream",
          "text": "(1, 'a', 'string', 3)\n,a\n"
        }
      ],
      "execution_count": 4
    },
    {
      "cell_type": "markdown",
      "source": "### Dictionaries in Python",
      "metadata": {}
    },
    {
      "cell_type": "markdown",
      "source": "A Python dictionary is a data structure that stores the value in key: value pairs. Values in a dictionary can be of any data type and can be duplicated, whereas keys can’t be repeated and must be immutable.",
      "metadata": {}
    },
    {
      "cell_type": "code",
      "source": "d = {1: 'Lorem', 2: 'Ipsum', 3: 'Dolerum'}\nprint(d)",
      "metadata": {},
      "outputs": [
        {
          "name": "stdout",
          "output_type": "stream",
          "text": "{1: 'Lorem', 2: 'Ipsum', 3: 'Dolerum'}\n"
        }
      ],
      "execution_count": 6
    },
    {
      "cell_type": "markdown",
      "source": "#### Create a Dictionary",
      "metadata": {}
    },
    {
      "cell_type": "code",
      "source": "# create dictionary using { }\nd1 = {1: 'Game', 2: 'of', 3: 'Thrones'}\nprint(d1)\n\n# create dictionary using dict() constructor\nd2 = dict(a = \"House\", b = \"of\", c = \"Cards\")\nprint(d2)",
      "metadata": {},
      "outputs": [
        {
          "name": "stdout",
          "output_type": "stream",
          "text": "{1: 'Game', 2: 'of', 3: 'Thrones'}\n,{'a': 'House', 'b': 'of', 'c': 'Cards'}\n"
        }
      ],
      "execution_count": 7
    },
    {
      "cell_type": "markdown",
      "source": "#### Accessing Dictionary Items",
      "metadata": {}
    },
    {
      "cell_type": "code",
      "source": "d = { \"name\": \"Alice\", 1: \"Python\", (1, 2): [1,2,4] }\n\n# Access using key\nprint(d[\"name\"])\n\n# Access using get()\nprint(d.get(\"name\"))",
      "metadata": {},
      "outputs": [
        {
          "name": "stdout",
          "output_type": "stream",
          "text": "Alice\n,Alice\n"
        }
      ],
      "execution_count": 8
    },
    {
      "cell_type": "markdown",
      "source": "#### Adding and Updating Dictionary Items",
      "metadata": {}
    },
    {
      "cell_type": "code",
      "source": "d = {1: 'Game', 2: 'of', 3: 'Thrones'}\n\n# Adding a new key-value pair\nd[\"age\"] = 22\n\n# Updating an existing value\nd[1] = \"Python dict\"\n\nprint(d)",
      "metadata": {},
      "outputs": [
        {
          "name": "stdout",
          "output_type": "stream",
          "text": "{1: 'Python dict', 2: 'of', 3: 'Thrones', 'age': 22}\n"
        }
      ],
      "execution_count": 9
    },
    {
      "cell_type": "code",
      "source": "#### Deleting Items in Dictionary",
      "metadata": {
        "trusted": true
      },
      "outputs": [],
      "execution_count": null
    },
    {
      "cell_type": "code",
      "source": "d = {1: 'House', 2: 'of', 3: 'Cards'}\n\n#Deleting a key-value pair\ndel d[2]\n\nprint(d)\n",
      "metadata": {
        "trusted": true
      },
      "outputs": [
        {
          "name": "stdout",
          "output_type": "stream",
          "text": "{1: 'House', 3: 'Cards'}\n"
        }
      ],
      "execution_count": 5
    }
  ]
}