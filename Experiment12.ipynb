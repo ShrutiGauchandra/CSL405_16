{
  "metadata": {
    "kernelspec": {
      "name": "python",
      "display_name": "Python (Pyodide)",
      "language": "python"
    },
    "language_info": {
      "codemirror_mode": {
        "name": "python",
        "version": 3
      },
      "file_extension": ".py",
      "mimetype": "text/x-python",
      "name": "python",
      "nbconvert_exporter": "python",
      "pygments_lexer": "ipython3",
      "version": "3.8"
    },
    "colab": {
      "provenance": []
    }
  },
  "nbformat_minor": 5,
  "nbformat": 4,
  "cells": [
    {
      "id": "e1ace469-8146-436d-a4e2-8ca634c9e201",
      "cell_type": "markdown",
      "source": [
        "## 16 - Shruti Gauchandra"
      ],
      "metadata": {
        "id": "e1ace469-8146-436d-a4e2-8ca634c9e201"
      }
    },
    {
      "cell_type": "markdown",
      "source": [
        "### Experiment - 12"
      ],
      "metadata": {
        "id": "Lystzuyq0Dl6"
      },
      "id": "Lystzuyq0Dl6"
    },
    {
      "id": "bf9a9f6f-2acc-4cef-b553-66d0536a82dd",
      "cell_type": "markdown",
      "source": [
        "#### Program to demonstrate DataFrame using Pandas"
      ],
      "metadata": {
        "id": "bf9a9f6f-2acc-4cef-b553-66d0536a82dd"
      }
    },
    {
      "id": "eb3a034a-b2cf-4139-b000-74fa779d1e8c",
      "cell_type": "code",
      "source": [
        "import pandas as pd"
      ],
      "metadata": {
        "trusted": true,
        "id": "eb3a034a-b2cf-4139-b000-74fa779d1e8c"
      },
      "outputs": [],
      "execution_count": 1
    },
    {
      "id": "49f6e98d-7338-45af-8597-193b0e7be875",
      "cell_type": "markdown",
      "source": [
        "#### Creating a DataFrame using a dictionary"
      ],
      "metadata": {
        "id": "49f6e98d-7338-45af-8597-193b0e7be875"
      }
    },
    {
      "id": "e3cd99d9-078d-4800-8767-a29772e1cc63",
      "cell_type": "code",
      "source": [
        "data = {\n",
        "    'Name': ['Alice', 'Bob', 'Charlie', 'David'],\n",
        "    'Age': [24, 27, 22, 32],\n",
        "    'Marks': [85, 78, 90, 88]\n",
        "}"
      ],
      "metadata": {
        "trusted": true,
        "id": "e3cd99d9-078d-4800-8767-a29772e1cc63"
      },
      "outputs": [],
      "execution_count": 2
    },
    {
      "id": "14492cb0-2b07-41b1-80e5-62526885c9f2",
      "cell_type": "code",
      "source": [
        "df = pd.DataFrame(data)\n",
        "print(\"Initial DataFrame:\\n\", df)"
      ],
      "metadata": {
        "trusted": true,
        "colab": {
          "base_uri": "https://localhost:8080/"
        },
        "id": "14492cb0-2b07-41b1-80e5-62526885c9f2",
        "outputId": "714e5020-b23c-4452-d08f-82cd274c5993"
      },
      "outputs": [
        {
          "output_type": "stream",
          "name": "stdout",
          "text": [
            "Initial DataFrame:\n",
            "       Name  Age  Marks\n",
            "0    Alice   24     85\n",
            "1      Bob   27     78\n",
            "2  Charlie   22     90\n",
            "3    David   32     88\n"
          ]
        }
      ],
      "execution_count": 3
    },
    {
      "id": "97d0e135-6136-4fec-8fda-1caaa6ca0c74",
      "cell_type": "markdown",
      "source": [
        "#### Accessing columns"
      ],
      "metadata": {
        "id": "97d0e135-6136-4fec-8fda-1caaa6ca0c74"
      }
    },
    {
      "id": "23657051-42b0-4dc9-9204-573fccc6dad0",
      "cell_type": "code",
      "source": [
        "print(\"Accessing 'Name' column:\\n\", df['Name'])"
      ],
      "metadata": {
        "trusted": true,
        "colab": {
          "base_uri": "https://localhost:8080/"
        },
        "id": "23657051-42b0-4dc9-9204-573fccc6dad0",
        "outputId": "74713c1a-f8f9-4c70-d850-8d14174fd668"
      },
      "outputs": [
        {
          "output_type": "stream",
          "name": "stdout",
          "text": [
            "Accessing 'Name' column:\n",
            " 0      Alice\n",
            "1        Bob\n",
            "2    Charlie\n",
            "3      David\n",
            "Name: Name, dtype: object\n"
          ]
        }
      ],
      "execution_count": 4
    },
    {
      "id": "9701520e-0645-4557-a1c0-97b81e5170d7",
      "cell_type": "markdown",
      "source": [
        "#### Adding a new column"
      ],
      "metadata": {
        "id": "9701520e-0645-4557-a1c0-97b81e5170d7"
      }
    },
    {
      "id": "5c6dcad7-31ec-4e77-88ef-0490a3ae72d6",
      "cell_type": "code",
      "source": [
        "df['Grade'] = ['B', 'C', 'A', 'A']\n",
        "print(\"DataFrame after adding 'Grade' column:\\n\", df)"
      ],
      "metadata": {
        "trusted": true,
        "colab": {
          "base_uri": "https://localhost:8080/"
        },
        "id": "5c6dcad7-31ec-4e77-88ef-0490a3ae72d6",
        "outputId": "befcf2cd-f6f5-4502-e04d-77b720cdda15"
      },
      "outputs": [
        {
          "output_type": "stream",
          "name": "stdout",
          "text": [
            "DataFrame after adding 'Grade' column:\n",
            "       Name  Age  Marks Grade\n",
            "0    Alice   24     85     B\n",
            "1      Bob   27     78     C\n",
            "2  Charlie   22     90     A\n",
            "3    David   32     88     A\n"
          ]
        }
      ],
      "execution_count": 5
    },
    {
      "id": "45785bc1-2399-4fdf-b76d-771f9d289262",
      "cell_type": "markdown",
      "source": [
        "#### Accessing a specific row using loc"
      ],
      "metadata": {
        "id": "45785bc1-2399-4fdf-b76d-771f9d289262"
      }
    },
    {
      "id": "498d107e-db86-42c9-82d0-c388de6500ec",
      "cell_type": "code",
      "source": [
        "print(\"Accessing row at index 2:\\n\", df.loc[2])"
      ],
      "metadata": {
        "trusted": true,
        "colab": {
          "base_uri": "https://localhost:8080/"
        },
        "id": "498d107e-db86-42c9-82d0-c388de6500ec",
        "outputId": "000a8711-c434-4ab9-ecfc-7d3f71ad8e58"
      },
      "outputs": [
        {
          "output_type": "stream",
          "name": "stdout",
          "text": [
            "Accessing row at index 2:\n",
            " Name     Charlie\n",
            "Age           22\n",
            "Marks         90\n",
            "Grade          A\n",
            "Name: 2, dtype: object\n"
          ]
        }
      ],
      "execution_count": 6
    },
    {
      "id": "b33a63a2-7aac-409a-83df-8e3bc9b9d7c5",
      "cell_type": "markdown",
      "source": [
        "#### Accessing multiple rows using iloc"
      ],
      "metadata": {
        "id": "b33a63a2-7aac-409a-83df-8e3bc9b9d7c5"
      }
    },
    {
      "id": "bdab9c98-e3c5-4eb4-b4e3-b7e1915027be",
      "cell_type": "code",
      "source": [
        "print(\"Accessing rows from index 1 to 3:\\n\", df.iloc[1:4])"
      ],
      "metadata": {
        "trusted": true,
        "colab": {
          "base_uri": "https://localhost:8080/"
        },
        "id": "bdab9c98-e3c5-4eb4-b4e3-b7e1915027be",
        "outputId": "eae8ef8a-ff7e-48b5-a6fe-7022ae93af77"
      },
      "outputs": [
        {
          "output_type": "stream",
          "name": "stdout",
          "text": [
            "Accessing rows from index 1 to 3:\n",
            "       Name  Age  Marks Grade\n",
            "1      Bob   27     78     C\n",
            "2  Charlie   22     90     A\n",
            "3    David   32     88     A\n"
          ]
        }
      ],
      "execution_count": 7
    },
    {
      "id": "7741d0e2-488c-46a3-889c-e25fbb00f8c5",
      "cell_type": "markdown",
      "source": [
        "#### Filtering data"
      ],
      "metadata": {
        "id": "7741d0e2-488c-46a3-889c-e25fbb00f8c5"
      }
    },
    {
      "id": "e67018b8-ec96-496d-af89-d9bda6577ad5",
      "cell_type": "code",
      "source": [
        "high_scorers = df[df['Marks'] > 85]\n",
        "print(\"Students scoring above 85 marks:\\n\", high_scorers)"
      ],
      "metadata": {
        "trusted": true,
        "colab": {
          "base_uri": "https://localhost:8080/"
        },
        "id": "e67018b8-ec96-496d-af89-d9bda6577ad5",
        "outputId": "449f567e-78ae-4e41-a720-ed804a43a55f"
      },
      "outputs": [
        {
          "output_type": "stream",
          "name": "stdout",
          "text": [
            "Students scoring above 85 marks:\n",
            "       Name  Age  Marks Grade\n",
            "2  Charlie   22     90     A\n",
            "3    David   32     88     A\n"
          ]
        }
      ],
      "execution_count": 8
    },
    {
      "id": "1836f3b1-8ce0-4d64-bd80-7673118f49fe",
      "cell_type": "markdown",
      "source": [
        "#### Basic statistics"
      ],
      "metadata": {
        "id": "1836f3b1-8ce0-4d64-bd80-7673118f49fe"
      }
    },
    {
      "id": "17d5fb6a-9b39-4639-aa08-0d866c6c78f1",
      "cell_type": "code",
      "source": [
        "print(\"Statistical summary:\\n\", df.describe())"
      ],
      "metadata": {
        "trusted": true,
        "colab": {
          "base_uri": "https://localhost:8080/"
        },
        "id": "17d5fb6a-9b39-4639-aa08-0d866c6c78f1",
        "outputId": "f93558af-fd53-468b-90bd-cb08a94f5f05"
      },
      "outputs": [
        {
          "output_type": "stream",
          "name": "stdout",
          "text": [
            "Statistical summary:\n",
            "              Age      Marks\n",
            "count   4.000000   4.000000\n",
            "mean   26.250000  85.250000\n",
            "std     4.349329   5.251984\n",
            "min    22.000000  78.000000\n",
            "25%    23.500000  83.250000\n",
            "50%    25.500000  86.500000\n",
            "75%    28.250000  88.500000\n",
            "max    32.000000  90.000000\n"
          ]
        }
      ],
      "execution_count": 9
    }
  ]
}