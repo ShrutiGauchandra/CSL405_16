{
  "metadata": {
    "kernelspec": {
      "name": "python",
      "display_name": "Python (Pyodide)",
      "language": "python"
    },
    "language_info": {
      "codemirror_mode": {
        "name": "python",
        "version": 3
      },
      "file_extension": ".py",
      "mimetype": "text/x-python",
      "name": "python",
      "nbconvert_exporter": "python",
      "pygments_lexer": "ipython3",
      "version": "3.8"
    }
  },
  "nbformat_minor": 5,
  "nbformat": 4,
  "cells": [
    {
      "id": "5a7ca537-e945-4ed4-95e0-5bcb5308514e",
      "cell_type": "code",
      "source": "### Experiment",
      "metadata": {
        "trusted": true
      },
      "outputs": [],
      "execution_count": null
    },
    {
      "id": "4780aaf0-56b3-4a40-9f69-365bb5c8c9e4",
      "cell_type": "code",
      "source": "from pathlib import Path\n\nfiles = [f.name for f in Path('.').iterdir() if f.is_file()]\n\nprint(\"Files in the current directory:\")\nfor file in files:\n    print(file)\n",
      "metadata": {
        "trusted": true
      },
      "outputs": [
        {
          "name": "stdout",
          "output_type": "stream",
          "text": "Files in the current directory:\nExperiment-03.ipynb\nUntitled.ipynb\nexp (1).txt\nexperiment-01.ipynb\nexperiment-02.ipynb\nexperiment-04.ipynb\nREADME.md\n"
        }
      ],
      "execution_count": 6
    },
    {
      "id": "59192f2a-ac8d-4aed-b770-8e184a45a91a",
      "cell_type": "code",
      "source": "import os\n\nfiles = [f for f in os.listdir('.') if os.path.isfile(f)]\n\nprint(\"Files in the current directory:\")\nfor file in files:\n    print(file)\n\n'''\nThe above scipt uses os module to perform the required function.\nUtilize the pathlib module to perform the same functionality.\n'''",
      "metadata": {
        "trusted": true
      },
      "outputs": [
        {
          "name": "stdout",
          "output_type": "stream",
          "text": "Files in the current directory:\nExperiment-03.ipynb\nUntitled.ipynb\nexp (1).txt\nexperiment-01.ipynb\nexperiment-02.ipynb\nexperiment-04.ipynb\nREADME.md\n"
        },
        {
          "execution_count": 5,
          "output_type": "execute_result",
          "data": {
            "text/plain": "'\\nThe above scipt uses os module to perform the required function.\\nUtilize the pathlib module to perform the same functionality.\\n'"
          },
          "metadata": {}
        }
      ],
      "execution_count": 5
    }
  ]
}