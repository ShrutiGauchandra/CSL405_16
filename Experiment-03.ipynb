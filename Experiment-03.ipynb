{
  "metadata": {
    "kernelspec": {
      "name": "python",
      "display_name": "Python (Pyodide)",
      "language": "python"
    },
    "language_info": {
      "codemirror_mode": {
        "name": "python",
        "version": 3
      },
      "file_extension": ".py",
      "mimetype": "text/x-python",
      "name": "python",
      "nbconvert_exporter": "python",
      "pygments_lexer": "ipython3",
      "version": "3.8"
    }
  },
  "nbformat_minor": 5,
  "nbformat": 4,
  "cells": [
    {
      "id": "8d50870f-784a-448b-b550-2f72a1bac35d",
      "cell_type": "markdown",
      "source": "### Experiment - 03",
      "metadata": {}
    },
    {
      "id": "3f7818b2-0f45-423e-a84e-8ec1e19a2096",
      "cell_type": "code",
      "source": "if __name__ == '__main__':\n    with open ('./exp.txt', 'r') as file:\n        lines = file.readlines ()\n        numberOfLines = len (lines)\n        numberOfWords = sum (len (line.split()) for line in lines)\n        \n        # Write numberOfCharacters over here.\n        numberOfCharacters = sum (len (line)for line in lines)\n        \n    print(f\"Lines: {numberOfLines}\")\n    print(f\"Words: {numberOfWords}\")\n    print(f\"Characters: {numberOfCharacters}\")",
      "metadata": {
        "trusted": true
      },
      "outputs": [
        {
          "name": "stdout",
          "output_type": "stream",
          "text": "Lines: 4\nWords: 32\nCharacters: 187\n"
        }
      ],
      "execution_count": 15
    },
    {
      "id": "ff7fc201-a932-4b63-8c15-2e7f40d8c700",
      "cell_type": "code",
      "source": "",
      "metadata": {
        "trusted": true
      },
      "outputs": [],
      "execution_count": null
    }
  ]
}