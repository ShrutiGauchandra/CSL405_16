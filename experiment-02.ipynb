{
  "metadata": {
    "kernelspec": {
      "name": "python",
      "display_name": "Python (Pyodide)",
      "language": "python"
    },
    "language_info": {
      "codemirror_mode": {
        "name": "python",
        "version": 3
      },
      "file_extension": ".py",
      "mimetype": "text/x-python",
      "name": "python",
      "nbconvert_exporter": "python",
      "pygments_lexer": "ipython3",
      "version": "3.8"
    }
  },
  "nbformat_minor": 5,
  "nbformat": 4,
  "cells": [
    {
      "id": "03051217-e154-4c7b-9607-db1890ad8bfc",
      "cell_type": "markdown",
      "source": "#### Experiment-02",
      "metadata": {}
    },
    {
      "id": "e2c23e88-71d3-4178-80fa-b030220e86e0",
      "cell_type": "code",
      "source": "'''\nGeneral case represents that developer working on \nfrontend cannot work backend development unless he/she is fullstack dev.\n\nWrite a method named verifier () that checks this condition.\n\nThe method should check that if frontend is True and backend is True,\nthe method returns Fullstack as string. If one of them is True, it should return\nthe respective desgination, and if none of them are true, it returns,\nnot a developer respetively.\n'''",
      "metadata": {
        "trusted": true
      },
      "outputs": [],
      "execution_count": null
    },
    {
      "id": "d97116ac-cac6-4ec0-9ad4-874fc19dddf7",
      "cell_type": "code",
      "source": "class Employee:\n    def __init__ (\n            self,\n            designation : str = 'Developer',\n            frontend : bool = False,\n            backend : bool = False\n    ):\n        self.designation = designation\n        self.frontend = frontend\n        self.backend = backend\n\n    def __repr__ (self):\n        return '{}'.format (self.designation, self.frontend, self.backend)\n    \n    ### Write the your method over here.\n    def verifier (self):\n        if self.frontend and self.backend:\n            return 'Employee is a Fullstack Developer'\n        elif self.frontend:\n            return 'Employee is a Frontend Developer'\n        elif self.backend:\n            return 'Employee is a Backend Developer'\n        else:\n            return 'Employee is Not a Developer'\n\nif __name__ == '__main__':\n    firstEmployee = Employee (frontend = True, backend = False)\n    secondEmployee = Employee (frontend = False, backend = False)\n    thirdEmployee = Employee (frontend = False, backend = True)\n    fourthEmployee = Employee ( frontend = True, backend = True)\n\n    # Call the method here to display \nprint(f'Employee 1: {firstEmployee.verifier()}')\nprint(f'Employee 2: {secondEmployee.verifier()}')  \nprint(f'Employee 3: {thirdEmployee.verifier()}')  \nprint(f'Employee 4: {fourthEmployee.verifier()}') \n   ",
      "metadata": {
        "trusted": true
      },
      "outputs": [
        {
          "name": "stdout",
          "output_type": "stream",
          "text": "Employee 1: Employee is a Frontend Developer\nEmployee 2: Employee is Not a Developer\nEmployee 3: Employee is a Backend Developer\nEmployee 4: Employee is a Fullstack Developer\n"
        }
      ],
      "execution_count": 14
    }
  ]
}